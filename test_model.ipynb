{
 "cells": [
  {
   "cell_type": "code",
   "execution_count": 16,
   "metadata": {},
   "outputs": [],
   "source": [
    "import numpy as np\n",
    "import random\n",
    "from keras.models import Sequential, model_from_json\n",
    "from keras.layers import Dense, Activation\n",
    "from keras.optimizers import SGD\n",
    "from keras.utils import np_utils\n",
    "from keras.datasets import mnist\n",
    "from keras import backend as K\n",
    "from matplotlib.pyplot import imshow\n",
    "from PIL import Image"
   ]
  },
  {
   "cell_type": "code",
   "execution_count": 17,
   "metadata": {},
   "outputs": [],
   "source": [
    "model_name = 'LeNet'\n",
    "epoch = '10'\n",
    "\n",
    "json_file = open(model_name + \"_arch.json\", 'r')\n",
    "loaded_json = json_file.read()\n",
    "json_file.close()\n",
    "model = model_from_json(loaded_json)"
   ]
  },
  {
   "cell_type": "code",
   "execution_count": 18,
   "metadata": {},
   "outputs": [],
   "source": [
    "if epoch != '':\n",
    "    model.load_weights('weigths/' + model_name + '_' + epoch + '_weig.h5')\n",
    "else:\n",
    "    model.load_weights('weigths/' + model_name + '_weig.h5')\n",
    "\n",
    "model.compile(loss='categorical_crossentropy',\n",
    "              optimizer=SGD(), metrics=['accuracy'])\n"
   ]
  },
  {
   "cell_type": "code",
   "execution_count": 19,
   "metadata": {},
   "outputs": [
    {
     "data": {
      "text/plain": [
       "<matplotlib.image.AxesImage at 0xb34b3f470>"
      ]
     },
     "execution_count": 19,
     "metadata": {},
     "output_type": "execute_result"
    },
    {
     "data": {
      "image/png": "[encoded data removed]",
      "text/plain": [
       "<Figure size 432x288 with 1 Axes>"
      ]
     },
     "metadata": {
      "needs_background": "light"
     },
     "output_type": "display_data"
    }
   ],
   "source": [
    "(_, _), (test_x, test_y) = mnist.load_data()\n",
    "\n",
    "num = int(random.random() * 10000)\n",
    "testImage = (np.array(test_x[num], dtype='float')).reshape(28, 28)\n",
    "imshow(testImage)"
   ]
  },
  {
   "cell_type": "code",
   "execution_count": 20,
   "metadata": {},
   "outputs": [
    {
     "name": "stdout",
     "output_type": "stream",
     "text": [
      "[4]\n"
     ]
    }
   ],
   "source": [
    "if model_name == 'basic' or model_name == 'basic3':\n",
    "    test = test_x[num].reshape((1, 784)).astype('float32') / 255\n",
    "    print(model.predict_classes(test))\n",
    "if model_name == 'LeNet':\n",
    "    K.set_image_dim_ordering('th')\n",
    "    test = test_x[num].astype('float32') / 255\n",
    "    test = test[np.newaxis, np.newaxis, :, :]\n",
    "    print(model.predict_classes(test))\n"
   ]
  },
  {
   "cell_type": "code",
   "execution_count": null,
   "metadata": {},
   "outputs": [],
   "source": []
  }
 ],
 "metadata": {
  "kernelspec": {
   "display_name": "Python 3",
   "language": "python",
   "name": "python3"
  },
  "language_info": {
   "codemirror_mode": {
    "name": "ipython",
    "version": 3
   },
   "file_extension": ".py",
   "mimetype": "text/x-python",
   "name": "python",
   "nbconvert_exporter": "python",
   "pygments_lexer": "ipython3",
   "version": "3.6.6"
  }
 },
 "nbformat": 4,
 "nbformat_minor": 2
}
